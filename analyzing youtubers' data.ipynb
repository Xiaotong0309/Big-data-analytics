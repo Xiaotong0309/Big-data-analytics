{
 "cells": [
  {
   "cell_type": "code",
   "execution_count": 28,
   "metadata": {},
   "outputs": [],
   "source": [
    "%matplotlib inline\n",
    "import pandas as pd\n",
    "import numpy as np\n",
    "import matplotlib\n",
    "import matplotlib.pyplot as plt\n",
    "from sklearn.base import BaseEstimator, TransformerMixin\n",
    "from sklearn.ensemble import AdaBoostClassifier,GradientBoostingClassifier\n",
    "from sklearn.model_selection import  train_test_split\n",
    "from sklearn.preprocessing import LabelBinarizer, StandardScaler\n",
    "from sklearn.pipeline import FeatureUnion, Pipeline\n",
    "from sklearn.svm import SVC\n",
    "import matplotlib\n",
    "import matplotlib.pyplot as plt\n",
    "import itertools\n"
   ]
  },
  {
   "cell_type": "code",
   "execution_count": 29,
   "metadata": {},
   "outputs": [],
   "source": [
    "names = ['has_banner','has_location','has_extended_profile','has_url','followers','friends','num_posts','has_duplicate','onlyHasURL','has_retweet','contains_hashTag','predict']\n",
    "data_public = pd.read_csv(\"Patrick_Shyu/public.csv\",names = names)\n",
    "names1 = ['has_banner','has_location','has_extended_profile','has_url','followers','friends','predict']\n",
    "data_private = pd.read_csv(\"Patrick_Shyu/private.csv\", names = names1)"
   ]
  },
  {
   "cell_type": "code",
   "execution_count": 19,
   "metadata": {},
   "outputs": [],
   "source": [
    "names = ['has_banner','has_location','has_extended_profile','has_url','followers','friends','num_posts','has_duplicate','onlyHasURL','has_retweet','contains_hashTag','predict']\n",
    "data_public = pd.read_csv(\"livingbobby/public.csv\",names = names)\n",
    "names1 = ['has_banner','has_location','has_extended_profile','has_url','followers','friends','predict']\n",
    "data_private = pd.read_csv(\"livingbobby/private.csv\", names = names1)"
   ]
  },
  {
   "cell_type": "code",
   "execution_count": 20,
   "metadata": {},
   "outputs": [],
   "source": [
    "names = ['has_banner','has_location','has_extended_profile','has_url','followers','friends','num_posts','has_duplicate','onlyHasURL','has_retweet','contains_hashTag','predict']\n",
    "data_public = pd.read_csv(\"joma/public.csv\",names = names)\n",
    "names1 = ['has_banner','has_location','has_extended_profile','has_url','followers','friends','predict']\n",
    "data_private = pd.read_csv(\"joma/private.csv\", names = names1)"
   ]
  },
  {
   "cell_type": "code",
   "execution_count": 21,
   "metadata": {},
   "outputs": [],
   "source": [
    "names = ['has_banner','has_location','has_extended_profile','has_url','followers','friends','num_posts','has_duplicate','onlyHasURL','has_retweet','contains_hashTag','predict']\n",
    "data_public = pd.read_csv(\"BoldbEBO/public.csv\",names = names)\n",
    "names1 = ['has_banner','has_location','has_extended_profile','has_url','followers','friends','predict']\n",
    "data_private = pd.read_csv(\"BoldbEBO/private.csv\", names = names1)"
   ]
  },
  {
   "cell_type": "code",
   "execution_count": 7,
   "metadata": {},
   "outputs": [],
   "source": [
    "names = ['has_banner','has_location','has_extended_profile','has_url','followers','friends','num_posts','has_duplicate','onlyHasURL','has_retweet','contains_hashTag','predict']\n",
    "data_public = pd.read_csv(\"deeds_sonny/public.csv\",names = names)\n",
    "names1 = ['has_banner','has_location','has_extended_profile','has_url','followers','friends','predict']\n",
    "data_private = pd.read_csv(\"deeds_sonny/private.csv\", names = names1)"
   ]
  },
  {
   "cell_type": "code",
   "execution_count": 30,
   "metadata": {},
   "outputs": [],
   "source": [
    "\n",
    "records_number_public = len(data_public)\n",
    "records_number_private = len(data_private)\n",
    "\n",
    "#1 - real\n",
    "#0 - fake\n",
    "fake_followers_public = len(data_public.query('predict == \"0\"'))\n",
    "genuine_followers_public = len(data_public.query('predict == \"1\"'))\n",
    "\n",
    "fake_followers_private = len(data_private.query('predict == \"0\"'))\n",
    "genuine_followers_private = len(data_private.query('predict == \"1\"'))\n",
    "\n",
    "\n",
    "#print(fake_followers)\n",
    "#print(genuine_followers)"
   ]
  },
  {
   "cell_type": "markdown",
   "metadata": {},
   "source": [
    "# Pie chart analysis"
   ]
  },
  {
   "cell_type": "code",
   "execution_count": 31,
   "metadata": {},
   "outputs": [
    {
     "data": {
      "image/png": "[encoded data removed]",
      "text/plain": [
       "<Figure size 432x288 with 1 Axes>"
      ]
     },
     "metadata": {},
     "output_type": "display_data"
    }
   ],
   "source": [
    "\n",
    "slice_followers_public = [fake_followers_public, genuine_followers_public]\n",
    "\n",
    "slice_followers_private = [fake_followers_private, genuine_followers_private]\n",
    "followers = ['fake','real']\n",
    "f = plt.figure(1)\n",
    "plt.pie(slice_followers_public, labels= followers, startangle = 90, autopct = '%.1f%%')\n",
    "fig_size = plt.rcParams[\"figure.figsize\"]\n",
    "fig_size[0] = 20\n",
    "fig_size[1] = 10\n",
    "plt.rcParams[\"figure.figsize\"] = fig_size\n",
    "plt.title('Fake vs real followers whose accounts are public- DeedsSonny')\n",
    "f.show()\n"
   ]
  },
  {
   "cell_type": "code",
   "execution_count": 33,
   "metadata": {},
   "outputs": [
    {
     "data": {
      "image/png": "[encoded data removed]",
      "text/plain": [
       "<Figure size 1080x360 with 1 Axes>"
      ]
     },
     "metadata": {},
     "output_type": "display_data"
    }
   ],
   "source": [
    "\n",
    "g = plt.figure(2)\n",
    "plt.pie(slice_followers_private, labels= followers, startangle = 90, autopct = '%.1f%%')\n",
    "fig_size[0] = 15\n",
    "fig_size[1] = 5\n",
    "plt.rcParams[\"figure.figsize\"] = fig_size\n",
    "plt.title('Fake vs real followers whose accounts are private - DeedsSonny')\n",
    "g.show()\n"
   ]
  },
  {
   "cell_type": "markdown",
   "metadata": {},
   "source": [
    "# Public Fake Follower analysis "
   ]
  },
  {
   "cell_type": "code",
   "execution_count": 34,
   "metadata": {},
   "outputs": [],
   "source": [
    "public_fake = data_public.query('predict == \"0\"')\n",
    "public_fake = public_fake.astype(int)"
   ]
  },
  {
   "cell_type": "code",
   "execution_count": 35,
   "metadata": {},
   "outputs": [
    {
     "data": {
      "text/plain": [
       "[0, 27, 0, 11, 26, 151, 10, 4, 0, 1, 2]"
      ]
     },
     "execution_count": 35,
     "metadata": {},
     "output_type": "execute_result"
    }
   ],
   "source": [
    "\n",
    "#splitting the public dataset into fake and real. analysing the number of zeroes in each column to judge the number of fakes.\n",
    "#start with fake\n",
    "has_banner = len(public_fake.query('has_banner == \"1\"'))\n",
    "has_location = len(public_fake.query('has_location == \"1\"'))\n",
    "has_extended_profile = len(public_fake.query('has_extended_profile == \"1\"'))\n",
    "has_url = len(public_fake.query('has_url == \"1\"'))\n",
    "average_followers = public_fake['followers'].mean()\n",
    "average_friends = public_fake['friends'].mean()\n",
    "average_posts = public_fake['num_posts'].mean()\n",
    "has_duplicates = len(public_fake.query('has_duplicate > 0'))\n",
    "has_only_url = len(public_fake.query('onlyHasURL == \"1\"'))\n",
    "average_retweets = public_fake['has_retweet'].mean()\n",
    "average_hashtags = public_fake['contains_hashTag'].mean()\n",
    "\n",
    "X = [has_banner,\n",
    "     has_location,\n",
    "    has_extended_profile,\n",
    "    has_url,round(average_followers),round(average_friends),\n",
    "     round(average_posts),has_duplicates,has_only_url,\n",
    "     round(average_retweets),round(average_hashtags)]\n",
    "\n",
    "Y = ['Do have banner','Do have location',\n",
    "     'do have extended profile','Do have URL',\n",
    "     'avg no. of followers','avg no. of friends','avg no. of posts'\n",
    "     ,'users who have duplicates','users who have only URL',\n",
    "     'avg no. of retweets','avg no. of hashtags']\n",
    "\n",
    "X\n",
    "\n"
   ]
  },
  {
   "cell_type": "markdown",
   "metadata": {},
   "source": [
    "# Public real followers analysis "
   ]
  },
  {
   "cell_type": "code",
   "execution_count": 36,
   "metadata": {},
   "outputs": [],
   "source": [
    "public_real = data_public.query('predict == \"1\"')\n",
    "public_real = public_real.astype(int)\n"
   ]
  },
  {
   "cell_type": "code",
   "execution_count": 37,
   "metadata": {},
   "outputs": [
    {
     "data": {
      "text/plain": [
       "[1080, 1124, 591, 592, 522, 655, 141, 187, 0, 480575, 22]"
      ]
     },
     "execution_count": 37,
     "metadata": {},
     "output_type": "execute_result"
    }
   ],
   "source": [
    "\n",
    "has_banner = len(public_real.query('has_banner == \"1\"'))\n",
    "has_location = len(public_real.query('has_location == \"1\"'))\n",
    "has_extended_profile = len(public_real.query('has_extended_profile == \"1\"'))\n",
    "has_url = len(public_real.query('has_url == \"1\"'))\n",
    "average_followers = public_real['followers'].mean()\n",
    "average_friends = public_real['friends'].mean()\n",
    "average_posts = public_real['num_posts'].mean()\n",
    "has_duplicates = len(public_real.query('has_duplicate > 0'))\n",
    "has_only_url = len(public_real.query('onlyHasURL == \"1\"'))\n",
    "average_retweets = public_real['has_retweet'].mean()\n",
    "average_hashtags = public_real['contains_hashTag'].mean()\n",
    "\n",
    "X = [has_banner,\n",
    "     has_location,\n",
    "    has_extended_profile,\n",
    "    has_url,round(average_followers),round(average_friends),\n",
    "     round(average_posts),has_duplicates,has_only_url,\n",
    "     round(average_retweets),round(average_hashtags)]\n",
    "\n",
    "Y = ['Do have banner','Do have location',\n",
    "     'do have extended profile','Do have URL',\n",
    "     'avg no. of followers','avg no. of friends','avg no. of posts'\n",
    "     ,'users who have duplicates','users who have only URL',\n",
    "     'avg no. of retweets','avg no. of hashtags']\n",
    "\n",
    "\n",
    "X"
   ]
  },
  {
   "cell_type": "code",
   "execution_count": null,
   "metadata": {},
   "outputs": [],
   "source": [
    "'''\n",
    "plt.bar(Y, X)\n",
    "plt.xlabel('Number of followers', fontsize=15)\n",
    "plt.ylabel('Various Twitter Features', fontsize=15)\n",
    "plt.title('Evaluating number of  public followers of Patrick Shyu who are real ', fontsize = 15)\n",
    "fig_size = plt.rcParams[\"figure.figsize\"]\n",
    "fig_size[0] = 30\n",
    "fig_size[1] = 25\n",
    "plt.rcParams[\"figure.figsize\"] = fig_size\n",
    "plt.ylim(0,1200)\n",
    "plt.show()\n",
    "'''"
   ]
  },
  {
   "cell_type": "markdown",
   "metadata": {},
   "source": [
    "# Private fake followers analysis "
   ]
  },
  {
   "cell_type": "code",
   "execution_count": 38,
   "metadata": {},
   "outputs": [
    {
     "data": {
      "text/plain": [
       "(2154, 7)"
      ]
     },
     "execution_count": 38,
     "metadata": {},
     "output_type": "execute_result"
    }
   ],
   "source": [
    "private_fake = data_private.query('predict == \"0\"')\n",
    "private_fake = private_fake.astype(int)\n",
    "private_fake.shape"
   ]
  },
  {
   "cell_type": "code",
   "execution_count": 39,
   "metadata": {},
   "outputs": [
    {
     "data": {
      "text/plain": [
       "[385, 785, 464, 248, 25, 390]"
      ]
     },
     "execution_count": 39,
     "metadata": {},
     "output_type": "execute_result"
    }
   ],
   "source": [
    "private_fake = data_private.query('predict == \"0\"')\n",
    "private_fake = private_fake.astype(int)\n",
    "\n",
    "has_banner = len(private_fake.query('has_banner == \"1\"'))\n",
    "has_location = len(private_fake.query('has_location == \"1\"'))\n",
    "has_extended_profile = len(private_fake.query('has_extended_profile == \"1\"'))\n",
    "has_url = len(private_fake.query('has_url == \"1\"'))\n",
    "average_followers = private_fake['followers'].mean()\n",
    "average_friends = private_fake['friends'].mean()\n",
    "\n",
    "X = [has_banner,\n",
    "     has_location,\n",
    "    has_extended_profile,\n",
    "    has_url,round(average_followers),round(average_friends)]\n",
    "\n",
    "Y = ['Do have banner','Do have location',\n",
    "     'do have extended profile','Do have URL',\n",
    "     'avg no. of followers','avg no. of friends']\n",
    "\n",
    "\n",
    "X"
   ]
  },
  {
   "cell_type": "markdown",
   "metadata": {},
   "source": [
    "# Private real followers analysis "
   ]
  },
  {
   "cell_type": "code",
   "execution_count": 40,
   "metadata": {},
   "outputs": [
    {
     "name": "stdout",
     "output_type": "stream",
     "text": [
      "(5116, 7)\n"
     ]
    },
    {
     "data": {
      "text/plain": [
       "[3798, 3608, 2050, 1913, 386, 545]"
      ]
     },
     "execution_count": 40,
     "metadata": {},
     "output_type": "execute_result"
    }
   ],
   "source": [
    "private_real = data_private.query('predict == \"1\"')\n",
    "private_real = private_real.astype(int)\n",
    "print(private_real.shape)\n",
    "\n",
    "has_banner = len(private_real.query('has_banner == \"1\"'))\n",
    "has_location = len(private_real.query('has_location == \"1\"'))\n",
    "has_extended_profile = len(private_real.query('has_extended_profile == \"1\"'))\n",
    "has_url = len(private_real.query('has_url == \"1\"'))\n",
    "average_followers = private_real['followers'].mean()\n",
    "average_friends = private_real['friends'].mean()\n",
    "\n",
    "X = [has_banner,\n",
    "     has_location,\n",
    "    has_extended_profile,\n",
    "    has_url,round(average_followers),round(average_friends)]\n",
    "\n",
    "X\n",
    "\n",
    "\n",
    "\n"
   ]
  },
  {
   "cell_type": "code",
   "execution_count": null,
   "metadata": {},
   "outputs": [],
   "source": []
  }
 ],
 "metadata": {
  "kernelspec": {
   "display_name": "Python 3",
   "language": "python",
   "name": "python3"
  },
  "language_info": {
   "codemirror_mode": {
    "name": "ipython",
    "version": 3
   },
   "file_extension": ".py",
   "mimetype": "text/x-python",
   "name": "python",
   "nbconvert_exporter": "python",
   "pygments_lexer": "ipython3",
   "version": "3.6.8"
  }
 },
 "nbformat": 4,
 "nbformat_minor": 2
}
